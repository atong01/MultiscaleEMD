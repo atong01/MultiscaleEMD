{
 "cells": [
  {
   "cell_type": "code",
   "execution_count": null,
   "id": "0f96cf52-53f7-43b6-9006-70564f46e216",
   "metadata": {},
   "outputs": [],
   "source": [
    "%load_ext lab_black\n",
    "%load_ext autoreload\n",
    "%autoreload 2\n",
    "import pandas as pd\n",
    "import numpy as np\n",
    "import seaborn as sns"
   ]
  },
  {
   "cell_type": "code",
   "execution_count": null,
   "id": "11f5625d-991c-4648-aea6-02124c42d8a3",
   "metadata": {},
   "outputs": [],
   "source": [
    "df = pd.read_pickle(\"../comparison/results_s_curve_20_5.pkl\")\n",
    "df2 = pd.read_pickle(\"../comparison/results_s_curve_20_5_2.pkl\")"
   ]
  },
  {
   "cell_type": "code",
   "execution_count": null,
   "id": "4181f7c4-9258-42ab-8b12-46c55521278c",
   "metadata": {},
   "outputs": [],
   "source": [
    "df = pd.concat([df, df2])\n",
    "df = df.reset_index(drop=True)"
   ]
  },
  {
   "cell_type": "code",
   "execution_count": null,
   "id": "30cf41c1-d238-40c9-b872-3641c0ef0f9c",
   "metadata": {},
   "outputs": [],
   "source": [
    "df_mean = df.groupby([\"Method\", \"# distributions\"]).mean()"
   ]
  },
  {
   "cell_type": "code",
   "execution_count": null,
   "id": "0a69dd83-4825-4654-8f78-d92b016e53ad",
   "metadata": {},
   "outputs": [],
   "source": [
    "sns.lineplot(data=df_mean, x=\"10-NN time (s)\", y=\"SpearmanR\", hue=\"Method\")"
   ]
  },
  {
   "cell_type": "code",
   "execution_count": null,
   "id": "8afb3ce5-317a-489a-bf5f-fe7f07b5f9bd",
   "metadata": {},
   "outputs": [],
   "source": []
  },
  {
   "cell_type": "code",
   "execution_count": null,
   "id": "390b5ada-a913-4686-a214-d3dfccc31b5d",
   "metadata": {},
   "outputs": [],
   "source": [
    "import matplotlib.pyplot as plt\n",
    "\n",
    "sns.lineplot(data=df, x=\"# distributions\", y=\"10-NN time (s)\", hue=\"Method\")\n",
    "plt.xscale(\"log\")\n",
    "plt.yscale(\"log\")"
   ]
  },
  {
   "cell_type": "code",
   "execution_count": null,
   "id": "7193bdcb-1092-4951-9195-d259566cfbfc",
   "metadata": {},
   "outputs": [],
   "source": [
    "import matplotlib.pyplot as plt\n",
    "\n",
    "sns.scatterplot(\n",
    "    data=df[df[\"# distributions\"] == 200],\n",
    "    x=\"10-NN time (s)\",\n",
    "    y=\"SpearmanR\",\n",
    "    hue=\"Method\",\n",
    ")\n",
    "plt.xscale(\"log\")"
   ]
  },
  {
   "cell_type": "code",
   "execution_count": null,
   "id": "326f76f4-1d68-4e43-a463-8abaafc7e09b",
   "metadata": {},
   "outputs": [],
   "source": [
    "import matplotlib.pyplot as plt\n",
    "\n",
    "sns.scatterplot(\n",
    "    data=df[df[\"# distributions\"] == 200],\n",
    "    x=\"10-NN time (s)\",\n",
    "    y=\"P@10\",\n",
    "    hue=\"Method\",\n",
    ")\n",
    "plt.xscale(\"log\")"
   ]
  },
  {
   "cell_type": "code",
   "execution_count": null,
   "id": "6ad6a85c-dba6-491b-99cc-da27b1852aa8",
   "metadata": {},
   "outputs": [],
   "source": []
  }
 ],
 "metadata": {
  "kernelspec": {
   "display_name": "Python 3 (ipykernel)",
   "language": "python",
   "name": "python3"
  },
  "language_info": {
   "codemirror_mode": {
    "name": "ipython",
    "version": 3
   },
   "file_extension": ".py",
   "mimetype": "text/x-python",
   "name": "python",
   "nbconvert_exporter": "python",
   "pygments_lexer": "ipython3",
   "version": "3.9.7"
  }
 },
 "nbformat": 4,
 "nbformat_minor": 5
}
